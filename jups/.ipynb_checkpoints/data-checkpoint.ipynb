{
 "cells": [
  {
   "cell_type": "code",
   "execution_count": 43,
   "metadata": {},
   "outputs": [],
   "source": [
    "import torch"
   ]
  },
  {
   "cell_type": "code",
   "execution_count": 44,
   "metadata": {},
   "outputs": [],
   "source": [
    "x_tr = torch.randn((100, 3))\n",
    "y_tr = torch.tensor([i for i in range(100)])\n",
    "\n",
    "x_val = torch.randn((100, 3))\n",
    "y_val = torch.tensor([100-i for i in range(100)])"
   ]
  },
  {
   "cell_type": "code",
   "execution_count": 45,
   "metadata": {},
   "outputs": [],
   "source": [
    "class DataSet:\n",
    "    def __init__(self, x, y):\n",
    "        self.x = x\n",
    "        self.y = y\n",
    "\n",
    "    def __len__(self):\n",
    "        return len(self.x)\n",
    "\n",
    "    def __getitem__(self, i):\n",
    "        return self.x[i], self.y[i]"
   ]
  },
  {
   "cell_type": "code",
   "execution_count": 46,
   "metadata": {},
   "outputs": [],
   "source": [
    "d_tr = Dataset(x_tr, y_tr)"
   ]
  },
  {
   "cell_type": "code",
   "execution_count": 47,
   "metadata": {},
   "outputs": [
    {
     "data": {
      "text/plain": [
       "(tensor([ 2.0908, -1.6859,  2.0738]), tensor(12))"
      ]
     },
     "execution_count": 47,
     "metadata": {},
     "output_type": "execute_result"
    }
   ],
   "source": [
    "d_tr[12]"
   ]
  },
  {
   "cell_type": "code",
   "execution_count": 48,
   "metadata": {},
   "outputs": [
    {
     "data": {
      "text/plain": [
       "(tensor([[ 2.0908, -1.6859,  2.0738],\n",
       "         [ 0.0132, -0.1084, -0.3203],\n",
       "         [-0.2289,  0.1321,  1.1599]]), tensor([12, 13, 14]))"
      ]
     },
     "execution_count": 48,
     "metadata": {},
     "output_type": "execute_result"
    }
   ],
   "source": [
    "d_tr[12:15]"
   ]
  },
  {
   "cell_type": "code",
   "execution_count": 49,
   "metadata": {},
   "outputs": [
    {
     "data": {
      "text/plain": [
       "100"
      ]
     },
     "execution_count": 49,
     "metadata": {},
     "output_type": "execute_result"
    }
   ],
   "source": [
    "len(d_tr)"
   ]
  },
  {
   "cell_type": "code",
   "execution_count": 58,
   "metadata": {},
   "outputs": [],
   "source": [
    "def collate(b):\n",
    "    xs, ys = zip(*b)\n",
    "    return torch.stack(xs), torch.stack(ys)\n",
    "\n",
    "class DataLoader:\n",
    "    def __init__(self, dataset, batch_size, shuffle=False):\n",
    "        self.n = len(dataset)\n",
    "        self.dataset = dataset\n",
    "        self.batch_size = batch_size\n",
    "        self.shuffle = shuffle\n",
    "\n",
    "    def __iter__(self):\n",
    "        idxs = torch.randperm(self.n) if self.shuffle else torch.arange(self.n)\n",
    "        for i in range(0, self.n, self.batch_size):\n",
    "            yield self.dataset[idxs[i: i + self.batch_size]]\n"
   ]
  },
  {
   "cell_type": "code",
   "execution_count": 59,
   "metadata": {},
   "outputs": [],
   "source": [
    "sampler_no_shuffle = DataLoader(d_tr, 11, False)\n",
    "sampler_shuffle = DataLoader(d_tr, 11, True)"
   ]
  },
  {
   "cell_type": "code",
   "execution_count": 63,
   "metadata": {},
   "outputs": [
    {
     "data": {
      "text/plain": [
       "(tensor([[-0.8577,  1.1585, -0.0140],\n",
       "         [-1.5455,  0.9046, -0.8732],\n",
       "         [-0.5231,  0.1205, -0.8968],\n",
       "         [ 0.2439, -0.0118,  1.2558],\n",
       "         [ 0.2621, -1.1611, -0.7014],\n",
       "         [-0.5115,  0.8443,  0.5019],\n",
       "         [ 1.9589,  0.1374, -2.1609],\n",
       "         [-0.1661,  0.1940, -1.2070],\n",
       "         [ 0.4323, -0.3291, -1.3778],\n",
       "         [-0.6309, -0.4967,  0.5715],\n",
       "         [ 0.9088,  1.2098,  0.4684]]),\n",
       " tensor([ 0,  1,  2,  3,  4,  5,  6,  7,  8,  9, 10]))"
      ]
     },
     "execution_count": 63,
     "metadata": {},
     "output_type": "execute_result"
    }
   ],
   "source": [
    "xb, yb = next(iter(sampler_no_shuffle))\n",
    "xb, yb"
   ]
  },
  {
   "cell_type": "code",
   "execution_count": 65,
   "metadata": {},
   "outputs": [
    {
     "data": {
      "text/plain": [
       "(tensor([[-1.3935,  0.2471,  1.2907],\n",
       "         [-0.4372, -1.5295,  0.4559],\n",
       "         [-0.2758, -0.0591,  1.1778],\n",
       "         [ 0.5983, -0.6433, -0.6772],\n",
       "         [-0.4511,  0.6935,  0.0808],\n",
       "         [ 0.0923, -0.4083, -0.3554],\n",
       "         [-0.9065, -0.4453,  1.6310],\n",
       "         [ 1.0713,  1.7136, -1.3117],\n",
       "         [-2.0185, -0.1837,  0.4337],\n",
       "         [ 0.6355, -0.1279, -1.1140],\n",
       "         [ 1.7717, -0.4918,  0.1049]]),\n",
       " tensor([28, 27, 70, 52, 81, 69, 54, 95, 47, 84, 90]))"
      ]
     },
     "execution_count": 65,
     "metadata": {},
     "output_type": "execute_result"
    }
   ],
   "source": [
    "xb, yb = next(iter(sampler_shuffle))\n",
    "xb, yb"
   ]
  },
  {
   "cell_type": "code",
   "execution_count": 66,
   "metadata": {},
   "outputs": [],
   "source": [
    "class DataBunch:\n",
    "    def __init__(self, train_ds, valid_ds, batch_size, n_in=None, n_out=None):\n",
    "        self.train_gen = DataLoader(train_ds, batch_size, shuffle=True)\n",
    "        self.valid_gen = DataLoader(valid_ds, batch_size)\n",
    "        self.n_in = n_in\n",
    "        self.n_out = n_out\n",
    "\n",
    "    @property\n",
    "    def train_ds(self):\n",
    "        return self.train_gen.dataset\n",
    "\n",
    "    @property\n",
    "    def valid_ds(self):\n",
    "        return self.valid_gen.dataset"
   ]
  },
  {
   "cell_type": "code",
   "execution_count": 67,
   "metadata": {},
   "outputs": [],
   "source": [
    "db = DataBunch(DataSet(x_tr, y_tr), DataSet(x_val, y_val),\n",
    "              batch_size=11, n_in = 3, n_out=1)"
   ]
  },
  {
   "cell_type": "code",
   "execution_count": 68,
   "metadata": {},
   "outputs": [
    {
     "data": {
      "text/plain": [
       "(3, 1)"
      ]
     },
     "execution_count": 68,
     "metadata": {},
     "output_type": "execute_result"
    }
   ],
   "source": [
    "db.n_in, db.n_out"
   ]
  },
  {
   "cell_type": "code",
   "execution_count": 70,
   "metadata": {},
   "outputs": [
    {
     "data": {
      "text/plain": [
       "torch.Size([100, 3])"
      ]
     },
     "execution_count": 70,
     "metadata": {},
     "output_type": "execute_result"
    }
   ],
   "source": [
    "db.train_ds.x.shape"
   ]
  },
  {
   "cell_type": "code",
   "execution_count": 71,
   "metadata": {},
   "outputs": [
    {
     "data": {
      "text/plain": [
       "(tensor([[-0.1661,  0.1940, -1.2070],\n",
       "         [ 0.6420,  1.5221,  0.2802],\n",
       "         [-0.6288, -0.3965,  0.1972],\n",
       "         [-0.6775,  0.8000, -0.9840],\n",
       "         [-0.3589, -1.5455,  0.5182],\n",
       "         [ 0.7506, -1.0180,  0.1828],\n",
       "         [ 0.6052,  0.2159, -0.2645],\n",
       "         [-1.0243, -0.2480, -1.2089],\n",
       "         [ 1.2348,  0.7668, -0.8181],\n",
       "         [ 1.1693, -0.5535, -0.8331],\n",
       "         [ 0.0555,  0.5442, -0.8952]]),\n",
       " tensor([ 7, 16, 89, 63, 93, 42, 32, 60, 48, 40, 26]))"
      ]
     },
     "execution_count": 71,
     "metadata": {},
     "output_type": "execute_result"
    }
   ],
   "source": [
    "next(iter(db.train_gen))"
   ]
  },
  {
   "cell_type": "code",
   "execution_count": 72,
   "metadata": {},
   "outputs": [
    {
     "data": {
      "text/plain": [
       "(tensor([[ 0.1451,  0.9444,  1.1938],\n",
       "         [-0.3524,  0.3700,  1.2762],\n",
       "         [-1.4916,  0.1727, -0.3980],\n",
       "         [ 1.7773, -0.9729, -1.3781],\n",
       "         [-1.0903,  1.5241, -0.1308],\n",
       "         [-0.0421, -2.9725, -0.7142],\n",
       "         [-0.3718,  1.1710, -0.6711],\n",
       "         [-0.8236,  1.9846, -0.0979],\n",
       "         [ 1.7163,  0.1831, -0.8909],\n",
       "         [-0.8961, -0.6836, -0.4825],\n",
       "         [-0.0070, -0.2899, -0.1987]]),\n",
       " tensor([100,  99,  98,  97,  96,  95,  94,  93,  92,  91,  90]))"
      ]
     },
     "execution_count": 72,
     "metadata": {},
     "output_type": "execute_result"
    }
   ],
   "source": [
    "next(iter(db.valid_gen))"
   ]
  },
  {
   "cell_type": "code",
   "execution_count": 4,
   "metadata": {},
   "outputs": [],
   "source": [
    "def wrap(f):\n",
    "    def _inner(x):\n",
    "        l = f(x)\n",
    "        return l + 10\n",
    "    return _inner\n"
   ]
  },
  {
   "cell_type": "code",
   "execution_count": 5,
   "metadata": {},
   "outputs": [],
   "source": [
    "@wrap\n",
    "def f(x):\n",
    "    return 5*x"
   ]
  },
  {
   "cell_type": "code",
   "execution_count": 6,
   "metadata": {},
   "outputs": [
    {
     "data": {
      "text/plain": [
       "35"
      ]
     },
     "execution_count": 6,
     "metadata": {},
     "output_type": "execute_result"
    }
   ],
   "source": [
    "f(5)"
   ]
  }
 ],
 "metadata": {
  "kernelspec": {
   "display_name": "Python 3",
   "language": "python",
   "name": "python3"
  },
  "language_info": {
   "codemirror_mode": {
    "name": "ipython",
    "version": 3
   },
   "file_extension": ".py",
   "mimetype": "text/x-python",
   "name": "python",
   "nbconvert_exporter": "python",
   "pygments_lexer": "ipython3",
   "version": "3.6.2"
  }
 },
 "nbformat": 4,
 "nbformat_minor": 2
}
